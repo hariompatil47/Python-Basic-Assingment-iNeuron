{
 "cells": [
  {
   "cell_type": "markdown",
   "id": "8d1b701f",
   "metadata": {},
   "source": [
    "1. In the below elements which of them are values or an expression? eg:- values can be\n",
    "integer or string and expressions will be mathematical operators."
   ]
  },
  {
   "cell_type": "markdown",
   "id": "e5358807",
   "metadata": {},
   "source": [
    "*\n",
    "\n",
    "'hello'\n",
    "\n",
    "-87.8\n",
    "\n",
    "-\n",
    "\n",
    "/\n",
    "\n",
    "+\n",
    "\n",
    "6"
   ]
  },
  {
   "cell_type": "markdown",
   "id": "73a8b124",
   "metadata": {},
   "source": [
    "Answer:- \n",
    "\n",
    "Expression:  *, -, /, +, \n",
    "    \n",
    "Values:  'hello', -87.8, 6     "
   ]
  },
  {
   "cell_type": "markdown",
   "id": "a4ce0eca",
   "metadata": {},
   "source": [
    "# 2. What is the difference between string and variable?"
   ]
  },
  {
   "cell_type": "markdown",
   "id": "e1d65723",
   "metadata": {},
   "source": [
    "Ans: Variable:- Variable is a store of information. \n",
    "    \n",
    "a. A Python variable name must start with a letter or the underscore character.\n",
    "\n",
    "b. A Python variable name cannot start with a number.\n",
    "\n",
    "c. A Python variable name can only contain alpha-numeric characters and underscores (A-z, 0-9, and _ ).\n",
    "\n",
    "d. Variable in Python names are case-sensitive (name, Name, and NAME are three different variables).\n",
    "\n",
    "e. The reserved words(keywords) in Python cannot be used to name the variable in Python.\n",
    "\n",
    "string:- String is that information which is store inside variable. \n",
    "    \n",
    "String always written in single, double, or triple quote."
   ]
  },
  {
   "cell_type": "markdown",
   "id": "e6e3dfb7",
   "metadata": {},
   "source": [
    "# 3. Describe three different data types."
   ]
  },
  {
   "cell_type": "markdown",
   "id": "8e2f14b5",
   "metadata": {},
   "source": [
    "Ans: 1. Integers – \n",
    "This value is represented by int class.\n",
    "It contains positive or negative whole numbers (without fractions or decimals).\n",
    "In Python, there is no limit to how long an integer value can be.\n",
    "\n",
    "2. Float – \n",
    "This value is represented by the float class. \n",
    "It is a real number with a floating-point representation. \n",
    "It is specified by a decimal point. Optionally, the character e or E followed\n",
    "by a positive or negative integer may be appended to specify scientific notation.\n",
    "\n",
    "3. Complex Data type-\n",
    "It is the complex class type. It contains Real + Imaginery part"
   ]
  },
  {
   "cell_type": "code",
   "execution_count": 1,
   "id": "e8e6d7c5",
   "metadata": {},
   "outputs": [
    {
     "name": "stdout",
     "output_type": "stream",
     "text": [
      "878 <class 'int'>\n",
      "87.56 <class 'float'>\n",
      "(59+5j) <class 'complex'>\n"
     ]
    }
   ],
   "source": [
    "## Integers Example:\n",
    "int_number = 878\n",
    "print(int_number, type(int_number))\n",
    "## Float Example:\n",
    "float_number = 87.56\n",
    "print(float_number, type(float_number))\n",
    "## Compex example:\n",
    "com_number = 59+5j\n",
    "print(com_number, type(com_number))"
   ]
  },
  {
   "cell_type": "markdown",
   "id": "a3bf626e",
   "metadata": {},
   "source": [
    "# 4. What is an expression made up of? What do all expressions do?"
   ]
  },
  {
   "cell_type": "markdown",
   "id": "78a46218",
   "metadata": {},
   "source": [
    "Expression:-\n",
    "    An expression is a combination of constants, variables and operators. \n",
    "An expression may consist of one or more operands, and zero or more operators to produce a value.\n",
    "\n",
    "a+b\n",
    "\n",
    "c\n",
    "\n",
    "1-c*5\n",
    "\n",
    "... etc"
   ]
  },
  {
   "cell_type": "markdown",
   "id": "7122d39e",
   "metadata": {},
   "source": [
    "1.Constant expressions: Constant Expressions consists of only constant values. A constant value is one that doesn’t change.\n",
    "Examples:\n",
    "    5, 10 + 5 / 6.0, 'x’\n",
    "\n",
    "    2. Integral expressions: Integral Expressions are those which produce integer results after implementing all the automatic and explicit type conversions.\n",
    "Examples:\n",
    "    x, x * y, x + int( 5.0)\n",
    " where x and y are integer variables. \n",
    "\n",
    "3. Floating expressions: Float Expressions are which produce floating point results after implementing all the automatic and explicit type conversions.\n",
    "Examples:\n",
    "    x + y, 10.75\n",
    "where x and y are floating point variables.    \n",
    " \n",
    "4. Relational expressions: Relational Expressions yield results of type bool which takes a value true or false. When arithmetic expressions are used on either side of a relational operator, they will be evaluated first and then the results compared. Relational expressions are also known as Boolean expressions.\n",
    "Examples:\n",
    "    x <= y, x + y > 2\n",
    "5.Logical expressions: Logical Expressions combine two or more relational expressions and produces bool type results.\n",
    "Examples:\n",
    "     x > y && x == 10, x == 10 || y == 5 \n",
    "6.Pointer expressions: Pointer Expressions produce address values.\n",
    "Examples:\n",
    "    &x, ptr, ptr++\n",
    "where x is a variable and ptr is a pointer.    \n",
    "7. Bitwise expressions: Bitwise Expressions are used to manipulate data at bit level. They are basically used for testing or shifting bits.\n",
    "Examples:\n",
    "    x << 3\n",
    "    shifts three bit position to left\n",
    "    y >> 1\n",
    "shifts one bit position to right.\n",
    "\n",
    "Shift operators are often used for multiplication and division by powers of two.    "
   ]
  },
  {
   "cell_type": "markdown",
   "id": "1d6e1f36",
   "metadata": {},
   "source": [
    "# 5. This assignment statements, like spam = 10. What is the difference between an\n",
    "# expression and a statement?"
   ]
  },
  {
   "cell_type": "markdown",
   "id": "bf774524",
   "metadata": {},
   "source": [
    "Ans: An expression is a sentence with a minimum of two numbers and at least one math operation. This math operation can be addition, subtraction, multiplication, and division. The structure of an expression is: In all the given expressions, a math operator is used between the two numbers.\n",
    "\n",
    "    Example = 45-20*8 is an example of \n",
    "    \n",
    "A statement is a unit of code that has an effect, like creating a variable or displaying a value.When we type a statement, the interpreter executes it, which means that it does whatever the statement says. In general, statements don’t have values.\n",
    "\n",
    "eg: variable declaration and assignment are statements because they do not return a value "
   ]
  },
  {
   "cell_type": "code",
   "execution_count": 2,
   "id": "0c0469fb",
   "metadata": {},
   "outputs": [
    {
     "name": "stdout",
     "output_type": "stream",
     "text": [
      "Hello iNeuron !\n"
     ]
    }
   ],
   "source": [
    "#Example\n",
    "44*2+30-18 # Is a Expression\n",
    "google = 'Google is a browser' # Statement\n",
    "print(\"Hello iNeuron !\") # Expression Statement"
   ]
  },
  {
   "cell_type": "markdown",
   "id": "90909c21",
   "metadata": {},
   "source": [
    "# 6. After running the following code, what does the variable bacon contain?\n",
    "\n",
    "bacon = 22\n",
    "\n",
    "bacon + 1"
   ]
  },
  {
   "cell_type": "markdown",
   "id": "723c14f0",
   "metadata": {},
   "source": [
    "Ans: The value 22 assign to variable is set to 22. The expression bacon+1 can not assign to bacon to sum the 1.\n",
    "instead of bacon+1 it would be bacon=bacon+1"
   ]
  },
  {
   "cell_type": "code",
   "execution_count": 3,
   "id": "0c2f1887",
   "metadata": {},
   "outputs": [
    {
     "name": "stdout",
     "output_type": "stream",
     "text": [
      "22\n"
     ]
    }
   ],
   "source": [
    "bacon=22\n",
    "bacon+1\n",
    "print(bacon)"
   ]
  },
  {
   "cell_type": "code",
   "execution_count": 4,
   "id": "b929052e",
   "metadata": {},
   "outputs": [
    {
     "name": "stdout",
     "output_type": "stream",
     "text": [
      "23\n"
     ]
    }
   ],
   "source": [
    "bacon=22\n",
    "bacon=bacon+1\n",
    "print(bacon)"
   ]
  },
  {
   "cell_type": "markdown",
   "id": "3b086a52",
   "metadata": {},
   "source": [
    "# 7. What should the values of the following two terms be?\n",
    "\n",
    "'spam' + 'spamspam'\n",
    "\n",
    "'spam'*3"
   ]
  },
  {
   "cell_type": "markdown",
   "id": "c00e5898",
   "metadata": {},
   "source": [
    "Ans: Both the expression gives the output 'spamspmaspam'.In case of first expression 'spam'+'spamspam' it is a string concatenation while other 'spam'*3 is a string multiplication"
   ]
  },
  {
   "cell_type": "markdown",
   "id": "422ec053",
   "metadata": {},
   "source": [
    "# 8. Why is eggs a valid variable name while 100 is invalid?"
   ]
  },
  {
   "cell_type": "markdown",
   "id": "9196b8f1",
   "metadata": {},
   "source": [
    "Ans: In Python Variable names cannot begin with a number. The python rules for naming a variable are :-\n",
    "\n",
    "1. Variable names are case-sensitive (name, INEURON and ineuron are three different variables).\n",
    "2. Variable name must start with a letter or the underscore character.\n",
    "3. The reserved words(keywords) cannot be used naming the variable.\n",
    "4. Variable name can only contain alpha-numeric characters and underscores (A-z, 0-9, & _ ).\n",
    "5. Variable name cannot start with a number.\n"
   ]
  },
  {
   "cell_type": "code",
   "execution_count": 5,
   "id": "f27b9271",
   "metadata": {},
   "outputs": [
    {
     "ename": "SyntaxError",
     "evalue": "cannot assign to literal (4189926675.py, line 2)",
     "output_type": "error",
     "traceback": [
      "\u001b[1;36m  Input \u001b[1;32mIn [5]\u001b[1;36m\u001b[0m\n\u001b[1;33m    100 = 'iNeuron' ## Invalid varibale name\u001b[0m\n\u001b[1;37m    ^\u001b[0m\n\u001b[1;31mSyntaxError\u001b[0m\u001b[1;31m:\u001b[0m cannot assign to literal\n"
     ]
    }
   ],
   "source": [
    "egg = 'iNeuron' ## Valid variable name\n",
    "100 = 'iNeuron' ## Invalid varibale name\n",
    "print(egg)\n",
    "print(100)"
   ]
  },
  {
   "cell_type": "markdown",
   "id": "e320dbeb",
   "metadata": {},
   "source": [
    "# 9. What three functions can be used to get the integer, floating-point number, or string version of a value?"
   ]
  },
  {
   "cell_type": "markdown",
   "id": "7acd4e17",
   "metadata": {},
   "source": [
    "Ans: The following function int(), float(), str() will evalute the integer, floating-point number and string version of the assing value"
   ]
  },
  {
   "cell_type": "code",
   "execution_count": 6,
   "id": "88aa62e8",
   "metadata": {},
   "outputs": [
    {
     "name": "stdout",
     "output_type": "stream",
     "text": [
      "int(25): 25\n",
      "float(44): 44.0\n",
      "str(51): 51\n"
     ]
    }
   ],
   "source": [
    "print('int(25):', int(25.0))\n",
    "print('float(44):', float(44))\n",
    "print('str(51):', str(51))"
   ]
  },
  {
   "cell_type": "markdown",
   "id": "79ccce5a",
   "metadata": {},
   "source": [
    "# 10. Why does this expression cause an error? How can you fix it?\n",
    "'i have eaten' + 99 + 'burritos.'"
   ]
  },
  {
   "cell_type": "markdown",
   "id": "7d562a8e",
   "metadata": {},
   "source": [
    "Ans: 'i have eaten' + 99 + 'burritos.' causes an error because 99 is int not str. It must be typecast like str(99) to fix this issue."
   ]
  },
  {
   "cell_type": "code",
   "execution_count": 7,
   "id": "ceb6ef60",
   "metadata": {},
   "outputs": [
    {
     "ename": "TypeError",
     "evalue": "can only concatenate str (not \"int\") to str",
     "output_type": "error",
     "traceback": [
      "\u001b[1;31m---------------------------------------------------------------------------\u001b[0m",
      "\u001b[1;31mTypeError\u001b[0m                                 Traceback (most recent call last)",
      "Input \u001b[1;32mIn [7]\u001b[0m, in \u001b[0;36m<cell line: 1>\u001b[1;34m()\u001b[0m\n\u001b[1;32m----> 1\u001b[0m \u001b[38;5;124;43m'\u001b[39;49m\u001b[38;5;124;43mi have eaten\u001b[39;49m\u001b[38;5;124;43m'\u001b[39;49m\u001b[43m \u001b[49m\u001b[38;5;241;43m+\u001b[39;49m\u001b[43m \u001b[49m\u001b[38;5;241;43m99\u001b[39;49m \u001b[38;5;241m+\u001b[39m \u001b[38;5;124m'\u001b[39m\u001b[38;5;124mburritos.\u001b[39m\u001b[38;5;124m'\u001b[39m\n",
      "\u001b[1;31mTypeError\u001b[0m: can only concatenate str (not \"int\") to str"
     ]
    }
   ],
   "source": [
    "'i have eaten' + 99 + 'burritos.'"
   ]
  },
  {
   "cell_type": "code",
   "execution_count": 8,
   "id": "1682bb4c",
   "metadata": {},
   "outputs": [
    {
     "data": {
      "text/plain": [
       "'i have eaten 99 burritos.'"
      ]
     },
     "execution_count": 8,
     "metadata": {},
     "output_type": "execute_result"
    }
   ],
   "source": [
    "'i have eaten ' + str(99) + ' burritos.'"
   ]
  }
 ],
 "metadata": {
  "kernelspec": {
   "display_name": "Python 3 (ipykernel)",
   "language": "python",
   "name": "python3"
  },
  "language_info": {
   "codemirror_mode": {
    "name": "ipython",
    "version": 3
   },
   "file_extension": ".py",
   "mimetype": "text/x-python",
   "name": "python",
   "nbconvert_exporter": "python",
   "pygments_lexer": "ipython3",
   "version": "3.9.12"
  }
 },
 "nbformat": 4,
 "nbformat_minor": 5
}
