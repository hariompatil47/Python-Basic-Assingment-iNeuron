{
 "cells": [
  {
   "cell_type": "markdown",
   "id": "a3941b15",
   "metadata": {},
   "source": [
    "# 1. What does RGBA stand for?"
   ]
  },
  {
   "cell_type": "raw",
   "id": "d269e533",
   "metadata": {},
   "source": [
    "Ans: RGBA is a four-channel format containing data for Red, Green, Blue, and an Alpha value. Where Alpha Represents the Opacity"
   ]
  },
  {
   "cell_type": "markdown",
   "id": "b90159c8",
   "metadata": {},
   "source": [
    "# 2. From the Pillow module, how do you get the RGBA value of any images?"
   ]
  },
  {
   "cell_type": "raw",
   "id": "e7756a79",
   "metadata": {},
   "source": [
    "Ans: ImageColor.getcolor() gives rgba value of any image"
   ]
  },
  {
   "cell_type": "markdown",
   "id": "fe0d3b12",
   "metadata": {},
   "source": [
    "# 3. What is a box tuple, and how does it work?"
   ]
  },
  {
   "cell_type": "raw",
   "id": "b5d262c4",
   "metadata": {},
   "source": [
    "Ans: A box tuple is a tuple value of four integers: the left-edge x-coordinate, the top-edge y-coordinate,the width, and the height, respectively."
   ]
  },
  {
   "cell_type": "markdown",
   "id": "e097b14a",
   "metadata": {},
   "source": [
    "# 4. Use your image and load in notebook then, How can you find out the width and height of an Image object?"
   ]
  },
  {
   "cell_type": "code",
   "execution_count": 2,
   "id": "8cf628be",
   "metadata": {},
   "outputs": [
    {
     "name": "stdout",
     "output_type": "stream",
     "text": [
      "Width, Height -> (600, 383)\n",
      "Width, Height -> 600,383\n",
      "Width, Height -> 600,383\n"
     ]
    }
   ],
   "source": [
    "#Example Program\n",
    "from PIL import Image\n",
    "pic = Image.open('whasapp.jpg')\n",
    "print(f'Width, Height -> {pic.size}') # Approach 1\n",
    "print(f'Width, Height -> {pic.width},{pic.height}') # Approach 2\n",
    "width,height = pic.size\n",
    "print(f'Width, Height -> {width},{height}') # Approach 3"
   ]
  },
  {
   "cell_type": "markdown",
   "id": "d2f77a36",
   "metadata": {},
   "source": [
    "# 5. What method would you call to get Image object for a 100×100 image, excluding the lower-left quarter of it?"
   ]
  },
  {
   "cell_type": "raw",
   "id": "67d21e4e",
   "metadata": {},
   "source": [
    "imageObj.crop((0, 50, 50, 50))"
   ]
  },
  {
   "cell_type": "markdown",
   "id": "167e6ec4",
   "metadata": {},
   "source": [
    "# 6. After making changes to an Image object, how could you save it as an image file?"
   ]
  },
  {
   "cell_type": "raw",
   "id": "3aba2353",
   "metadata": {},
   "source": [
    "imageObj.save('new_name.jpg')"
   ]
  },
  {
   "cell_type": "markdown",
   "id": "5986480a",
   "metadata": {},
   "source": [
    "# 7. What module contains Pillow’s shape-drawing code?"
   ]
  },
  {
   "cell_type": "raw",
   "id": "2b7699a7",
   "metadata": {},
   "source": [
    "ImageDraw module"
   ]
  },
  {
   "cell_type": "markdown",
   "id": "42274474",
   "metadata": {},
   "source": [
    "# 8. Image objects do not have drawing methods. What kind of object does? How do you get this kind of object?"
   ]
  },
  {
   "cell_type": "raw",
   "id": "7a72d294",
   "metadata": {},
   "source": [
    "They have shape drawing methods like line(), point(), rectangle()\n",
    "we can call they by using ImageDraw.Draw() function."
   ]
  }
 ],
 "metadata": {
  "kernelspec": {
   "display_name": "Python 3 (ipykernel)",
   "language": "python",
   "name": "python3"
  },
  "language_info": {
   "codemirror_mode": {
    "name": "ipython",
    "version": 3
   },
   "file_extension": ".py",
   "mimetype": "text/x-python",
   "name": "python",
   "nbconvert_exporter": "python",
   "pygments_lexer": "ipython3",
   "version": "3.9.12"
  }
 },
 "nbformat": 4,
 "nbformat_minor": 5
}
