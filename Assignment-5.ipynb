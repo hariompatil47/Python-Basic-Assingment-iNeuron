{
 "cells": [
  {
   "cell_type": "markdown",
   "id": "57b3db4c",
   "metadata": {},
   "source": [
    "# 1. What does an empty dictionary's code look like?"
   ]
  },
  {
   "cell_type": "markdown",
   "id": "6a7159af",
   "metadata": {},
   "source": [
    "Ans: An empty dictionary is often represented by two empty curly brackets\n",
    "d = {} or d = dict()"
   ]
  },
  {
   "cell_type": "markdown",
   "id": "fd9dede4",
   "metadata": {},
   "source": [
    "# 2. What is the value of a dictionary value with the key 'foo' and the value 42?"
   ]
  },
  {
   "cell_type": "markdown",
   "id": "ba1b1b44",
   "metadata": {},
   "source": [
    "Ans: {'foo':42} is the value of a dictionary value with the key 'foo' and the value 42?"
   ]
  },
  {
   "cell_type": "markdown",
   "id": "53978f14",
   "metadata": {},
   "source": [
    "# 3. What is the most significant distinction between a dictionary and a list?"
   ]
  },
  {
   "cell_type": "markdown",
   "id": "71ac19e5",
   "metadata": {},
   "source": [
    "Ans: Dictionaries are represented by {} where as listed are represented by []\n",
    "The Items stored in a dictionary are Unordered , while the items in a list are ordered"
   ]
  },
  {
   "cell_type": "markdown",
   "id": "b8f36b87",
   "metadata": {},
   "source": [
    "# 4. What happens if you try to access spam['foo'] if spam is {'bar': 100}?"
   ]
  },
  {
   "cell_type": "markdown",
   "id": "3cb8072f",
   "metadata": {},
   "source": [
    "Ans: we will get a keyError- KeyError: 'foo'"
   ]
  },
  {
   "cell_type": "code",
   "execution_count": 1,
   "id": "c94eb3b0",
   "metadata": {},
   "outputs": [
    {
     "ename": "KeyError",
     "evalue": "'foo'",
     "output_type": "error",
     "traceback": [
      "\u001b[1;31m---------------------------------------------------------------------------\u001b[0m",
      "\u001b[1;31mKeyError\u001b[0m                                  Traceback (most recent call last)",
      "Input \u001b[1;32mIn [1]\u001b[0m, in \u001b[0;36m<cell line: 2>\u001b[1;34m()\u001b[0m\n\u001b[0;32m      1\u001b[0m spam \u001b[38;5;241m=\u001b[39m{\u001b[38;5;124m'\u001b[39m\u001b[38;5;124mbar\u001b[39m\u001b[38;5;124m'\u001b[39m: \u001b[38;5;241m100\u001b[39m}\n\u001b[1;32m----> 2\u001b[0m \u001b[43mspam\u001b[49m\u001b[43m[\u001b[49m\u001b[38;5;124;43m'\u001b[39;49m\u001b[38;5;124;43mfoo\u001b[39;49m\u001b[38;5;124;43m'\u001b[39;49m\u001b[43m]\u001b[49m\n",
      "\u001b[1;31mKeyError\u001b[0m: 'foo'"
     ]
    }
   ],
   "source": [
    "spam ={'bar': 100}\n",
    "spam['foo']"
   ]
  },
  {
   "cell_type": "markdown",
   "id": "f32d6997",
   "metadata": {},
   "source": [
    "# 5. If a dictionary is stored in spam, what is the difference between the expressions 'cat' in spam and 'cat' in spam.keys()?"
   ]
  },
  {
   "cell_type": "markdown",
   "id": "4d292981",
   "metadata": {},
   "source": [
    "Ans: no difference, 'cat' in spam is 'cat' in spam.keys () shorthand version, check 'cat' key is present in the dictionary"
   ]
  },
  {
   "cell_type": "markdown",
   "id": "df604a65",
   "metadata": {},
   "source": [
    "# 6. If a dictionary is stored in spam, what is the difference between the expressions 'cat' in spam and 'cat' in spam.values()?"
   ]
  },
  {
   "cell_type": "markdown",
   "id": "a242682e",
   "metadata": {},
   "source": [
    "Ans:'cat' in spam checks whether there is a 'cat' key in the dictionary, while 'cat' in spam.values() checks whether there is a value 'cat' for one of the keys in spam."
   ]
  },
  {
   "cell_type": "markdown",
   "id": "528ab47e",
   "metadata": {},
   "source": [
    "# 7.what is a shortcut for the following code ?\n",
    "if 'color' not in spam: spam['color'] ='black'"
   ]
  },
  {
   "cell_type": "markdown",
   "id": "0f7e69ce",
   "metadata": {},
   "source": [
    "Ans: spam.setdefault('color','black')"
   ]
  },
  {
   "cell_type": "code",
   "execution_count": 3,
   "id": "5e34efab",
   "metadata": {},
   "outputs": [
    {
     "data": {
      "text/plain": [
       "{'bar': 100, 'color': 'black'}"
      ]
     },
     "execution_count": 3,
     "metadata": {},
     "output_type": "execute_result"
    }
   ],
   "source": [
    "if 'color' not in spam: spam['color'] ='black'\n",
    "spam"
   ]
  },
  {
   "cell_type": "code",
   "execution_count": 5,
   "id": "b2c09514",
   "metadata": {},
   "outputs": [
    {
     "data": {
      "text/plain": [
       "{'bar': 100, 'color': 'black'}"
      ]
     },
     "execution_count": 5,
     "metadata": {},
     "output_type": "execute_result"
    }
   ],
   "source": [
    "spam.setdefault('color','black')\n",
    "spam"
   ]
  },
  {
   "cell_type": "markdown",
   "id": "483aaa6c",
   "metadata": {},
   "source": [
    "# 8.How do you 'pretty print' dictionary values using which modules and function ?"
   ]
  },
  {
   "cell_type": "markdown",
   "id": "fcc25bbd",
   "metadata": {},
   "source": [
    "Method 1: Using loops We just loop through each dictionary element and its corresponding values using brute manner of loops. "
   ]
  },
  {
   "cell_type": "code",
   "execution_count": 6,
   "id": "cc262194",
   "metadata": {},
   "outputs": [
    {
     "name": "stdout",
     "output_type": "stream",
     "text": [
      "The original dictionary is : {'gfg': {'rate': 5, 'remark': 'good'}, 'cs': {'rate': 3}}\n",
      "The Pretty Print dictionary is : \n",
      "gfg\n",
      "rate : 5\n",
      "remark : good\n",
      "cs\n",
      "rate : 3\n"
     ]
    }
   ],
   "source": [
    "# Python3 code to demonstrate working of\n",
    "# Pretty Print a dictionary with dictionary value\n",
    "# Using loops\n",
    " \n",
    "# initializing dictionary\n",
    "test_dict = {'gfg': {'rate': 5, 'remark': 'good'}, 'cs': {'rate': 3}}\n",
    " \n",
    "# printing original dictionary\n",
    "print(\"The original dictionary is : \" + str(test_dict))\n",
    " \n",
    "# using loops to Pretty Print\n",
    "print(\"The Pretty Print dictionary is : \")\n",
    "for sub in test_dict:\n",
    "    print(sub)\n",
    "    for sub_nest in test_dict[sub]:\n",
    "        print(sub_nest, ':', test_dict[sub][sub_nest])"
   ]
  },
  {
   "cell_type": "markdown",
   "id": "881df616",
   "metadata": {},
   "source": [
    "Method 2: Using the built-in json module"
   ]
  },
  {
   "cell_type": "code",
   "execution_count": 7,
   "id": "44fc990c",
   "metadata": {},
   "outputs": [
    {
     "name": "stdout",
     "output_type": "stream",
     "text": [
      "The original dictionary is :  {'gfg': {'rate': 5, 'remark': 'good'}, 'cs': {'rate': 3}}\n",
      "The Pretty Print dictionary is : \n",
      " {\n",
      "    \"gfg\": {\n",
      "        \"rate\": 5,\n",
      "        \"remark\": \"good\"\n",
      "    },\n",
      "    \"cs\": {\n",
      "        \"rate\": 3\n",
      "    }\n",
      "}\n"
     ]
    }
   ],
   "source": [
    "import json\n",
    " \n",
    "# initializing dictionary\n",
    "test_dict = {'gfg': {'rate': 5, 'remark': 'good'}, 'cs': {'rate': 3}}\n",
    " \n",
    "# printing original dictionary\n",
    "print(\"The original dictionary is : \", test_dict)\n",
    " \n",
    "# using json.dumps() to Pretty Print\n",
    "pretty_dict = json.dumps(test_dict, indent=4)\n",
    "print(\"The Pretty Print dictionary is : \\n\", pretty_dict)"
   ]
  },
  {
   "cell_type": "markdown",
   "id": "e79c9eb4",
   "metadata": {},
   "source": [
    "Method 3:Using recursion and string concatenation: "
   ]
  },
  {
   "cell_type": "code",
   "execution_count": 8,
   "id": "77e9e6a6",
   "metadata": {},
   "outputs": [
    {
     "name": "stdout",
     "output_type": "stream",
     "text": [
      "The Pretty Print dictionary is : \n",
      "gfg\n",
      "\trate\n",
      "\t\t5\n",
      "\tremark\n",
      "\t\tgood\n",
      "cs\n",
      "\trate\n",
      "\t\t3\n",
      "\n"
     ]
    }
   ],
   "source": [
    "def pretty_print_dict(d, indent=0):\n",
    "    res = \"\"\n",
    "    for k, v in d.items():\n",
    "        res += \"\\t\"*indent + str(k) + \"\\n\"\n",
    "        if isinstance(v, dict):\n",
    "            res += pretty_print_dict(v, indent+1)\n",
    "        else:\n",
    "            res += \"\\t\"*(indent+1) + str(v) + \"\\n\"\n",
    "    return res\n",
    " \n",
    " \n",
    "test_dict = {'gfg': {'rate': 5, 'remark': 'good'}, 'cs': {'rate': 3}}\n",
    " \n",
    "# Using recursion and string concatenation for Pretty Print\n",
    "print(\"The Pretty Print dictionary is : \")\n",
    "print(pretty_print_dict(test_dict))\n",
    "# This code is contributed by Jyothi pinjala."
   ]
  },
  {
   "cell_type": "markdown",
   "id": "6f49b104",
   "metadata": {},
   "source": [
    "Method 4: Using for loop+dictionary"
   ]
  },
  {
   "cell_type": "code",
   "execution_count": 9,
   "id": "3cfc5617",
   "metadata": {},
   "outputs": [
    {
     "name": "stdout",
     "output_type": "stream",
     "text": [
      "gfg: \n",
      "    remark: good\n",
      "    rate: 5\n",
      "cs: \n",
      "    rate: 3\n",
      "\n"
     ]
    }
   ],
   "source": [
    "def pretty_print_dict(d):#define d\n",
    "    pretty_dict = ''  #take empty string\n",
    "    for k, v in d.items():#get items for dict\n",
    "        pretty_dict += f'{k}: \\n'\n",
    "        for value in v:\n",
    "            pretty_dict += f'    {value}: {v[value]}\\n'\n",
    "    return pretty_dict#return result\n",
    " \n",
    "d = {'gfg': {'remark': 'good', 'rate': 5}, 'cs': {'rate': 3}}#input\n",
    "print(pretty_print_dict(d))#print output"
   ]
  },
  {
   "cell_type": "markdown",
   "id": "6835628d",
   "metadata": {},
   "source": [
    "Method 5: Using the pprint module"
   ]
  },
  {
   "cell_type": "code",
   "execution_count": 10,
   "id": "b53d130e",
   "metadata": {},
   "outputs": [
    {
     "name": "stdout",
     "output_type": "stream",
     "text": [
      "The pretty-printed dictionary is:\n",
      "{'cs': {'rate': 3}, 'gfg': {'rate': 5, 'remark': 'good'}}\n"
     ]
    }
   ],
   "source": [
    "# import the pprint module\n",
    "import pprint\n",
    " \n",
    "# initialize the dictionary\n",
    "test_dict = {'gfg' : {'rate' : 5, 'remark' : 'good'}, 'cs' : {'rate' : 3}}\n",
    " \n",
    "# pretty-print the dictionary\n",
    "print(\"The pretty-printed dictionary is:\")\n",
    "pprint.pprint(test_dict)"
   ]
  },
  {
   "cell_type": "markdown",
   "id": "220e4090",
   "metadata": {},
   "source": [
    "Method 6: using the json.dumps() method with an argument indent."
   ]
  },
  {
   "cell_type": "code",
   "execution_count": 11,
   "id": "a0ab3e9c",
   "metadata": {},
   "outputs": [
    {
     "name": "stdout",
     "output_type": "stream",
     "text": [
      "The original dictionary is :  {'gfg': {'rate': 5, 'remark': 'good'}, 'cs': {'rate': 3}}\n",
      "The Pretty Print dictionary is : \n",
      "{\n",
      "    \"gfg\": {\n",
      "        \"rate\": 5,\n",
      "        \"remark\": \"good\"\n",
      "    },\n",
      "    \"cs\": {\n",
      "        \"rate\": 3\n",
      "    }\n",
      "}\n"
     ]
    }
   ],
   "source": [
    "# Importing json module\n",
    "import json\n",
    " \n",
    "# Initializing dictionary\n",
    "test_dict = {'gfg' : {'rate' : 5, 'remark' : 'good'}, 'cs' : {'rate' : 3}}\n",
    " \n",
    "# Printing original dictionary\n",
    "print(\"The original dictionary is : \", test_dict)\n",
    " \n",
    "# Using json.dumps() with indent argument to Pretty Print\n",
    "print(\"The Pretty Print dictionary is : \")\n",
    "pretty_print_dict = json.dumps(test_dict, indent=4)\n",
    "print(pretty_print_dict)"
   ]
  }
 ],
 "metadata": {
  "kernelspec": {
   "display_name": "Python 3 (ipykernel)",
   "language": "python",
   "name": "python3"
  },
  "language_info": {
   "codemirror_mode": {
    "name": "ipython",
    "version": 3
   },
   "file_extension": ".py",
   "mimetype": "text/x-python",
   "name": "python",
   "nbconvert_exporter": "python",
   "pygments_lexer": "ipython3",
   "version": "3.9.12"
  }
 },
 "nbformat": 4,
 "nbformat_minor": 5
}
