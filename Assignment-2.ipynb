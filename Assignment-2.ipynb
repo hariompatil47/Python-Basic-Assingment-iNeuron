{
 "cells": [
  {
   "cell_type": "markdown",
   "id": "9ab3289c",
   "metadata": {},
   "source": [
    "# 1.What are the two values of the Boolean data type? How do you write them?"
   ]
  },
  {
   "cell_type": "markdown",
   "id": "1336d983",
   "metadata": {},
   "source": [
    "Ans: The two values of the Boolean data type is True and False. First T and F letter is uppercase and rest is in lowercase."
   ]
  },
  {
   "cell_type": "code",
   "execution_count": 1,
   "id": "9eb96820",
   "metadata": {},
   "outputs": [
    {
     "name": "stdout",
     "output_type": "stream",
     "text": [
      "True\n",
      "False\n",
      "<class 'bool'>\n",
      "<class 'bool'>\n"
     ]
    }
   ],
   "source": [
    "a = True\n",
    "b = False\n",
    "print(a)\n",
    "print(b)\n",
    "print(type(a))\n",
    "print(type(b))"
   ]
  },
  {
   "cell_type": "markdown",
   "id": "1ccb27a4",
   "metadata": {},
   "source": [
    "# 2. What are the three different types of Boolean operators?"
   ]
  },
  {
   "cell_type": "markdown",
   "id": "5e4cbd03",
   "metadata": {},
   "source": [
    "Ans: The 3 different types of Boolean operators in python are: OR, AND, NOT operators."
   ]
  },
  {
   "cell_type": "code",
   "execution_count": 2,
   "id": "fb40da1d",
   "metadata": {},
   "outputs": [
    {
     "name": "stdout",
     "output_type": "stream",
     "text": [
      "True\n",
      "False\n",
      "False\n"
     ]
    }
   ],
   "source": [
    "a = 25\n",
    "b = 45\n",
    "print(a>20 and b>40)\n",
    "print(a>40 or b<5)\n",
    "print(not(a>10))"
   ]
  },
  {
   "cell_type": "markdown",
   "id": "a518b153",
   "metadata": {},
   "source": [
    "# 3. Make a list of each Boolean operator&#39;s truth tables (i.e. every possible combination of Boolean values for the operator and what it evaluate )."
   ]
  },
  {
   "cell_type": "markdown",
   "id": "1a0ab15b",
   "metadata": {},
   "source": [
    "Ans:\n",
    "    Truth table for and operators:\n",
    "1. True and True is True\n",
    "2. True and False is False\n",
    "3. False and True is False\n",
    "4. False and False is False\n",
    "\n",
    "Truth Table for or operators:\n",
    "1. True or True is True\n",
    "2. True or False is True\n",
    "3. False or True is True\n",
    "4. False or False is False\n",
    "\n",
    "Truth Table for not opeartors:\n",
    "1. True not is False\n",
    "2. False not is True"
   ]
  },
  {
   "cell_type": "markdown",
   "id": "7a52e13e",
   "metadata": {},
   "source": [
    "# 4. What are the values of the following expressions?\n",
    "(5>4) and (3 == 5)\n",
    "\n",
    "not (5>4)\n",
    "\n",
    "(5>4) or (3 == 5)\n",
    "\n",
    "not ((5>4) or (3 == 5))\n",
    "\n",
    "(True and True) and (True == False)\n",
    "\n",
    "(not False) or (not True)"
   ]
  },
  {
   "cell_type": "code",
   "execution_count": 3,
   "id": "6411e0a0",
   "metadata": {},
   "outputs": [
    {
     "name": "stdout",
     "output_type": "stream",
     "text": [
      "False\n",
      "False\n",
      "True\n",
      "False\n",
      "False\n",
      "True\n"
     ]
    }
   ],
   "source": [
    "print((5>4) and (3 == 5)) ## False\n",
    "print(not (5>4)) ## False\n",
    "print((5>4) or (3 == 5)) ## True\n",
    "print(not ((5>4) or (3 == 5))) ## False\n",
    "print((True and True) and (True == False)) ## False\n",
    "print((not False) or (not True)) ## "
   ]
  },
  {
   "cell_type": "markdown",
   "id": "d5624674",
   "metadata": {},
   "source": [
    "# 5. What are the six comparison operators?"
   ]
  },
  {
   "cell_type": "markdown",
   "id": "4bfa6a18",
   "metadata": {},
   "source": [
    "Ans: In Python, there are six types of comparison operators:\n",
    "\n",
    "1. Less than (<)\n",
    "2. Greater than (>)\n",
    "3. Less than or equal to (<=)\n",
    "4. Greater than or equal to (>=)\n",
    "5. Equal to (==)\n",
    "6. Not equal to (!=)"
   ]
  },
  {
   "cell_type": "code",
   "execution_count": 4,
   "id": "1090075d",
   "metadata": {},
   "outputs": [
    {
     "name": "stdout",
     "output_type": "stream",
     "text": [
      "Less than(<): True\n",
      "Greater than(>): True\n",
      "Less than or equal to(<=): True\n",
      "Greater than or eaual to(>=): True\n",
      "Equal to(==): True\n",
      "Not equal to (!=): True\n"
     ]
    }
   ],
   "source": [
    "print('Less than(<):', 2<4)\n",
    "print('Greater than(>):', 4>2)\n",
    "print('Less than or equal to(<=):', 2<=3)\n",
    "print('Greater than or eaual to(>=):', 4>=3)\n",
    "print('Equal to(==):', 3==3)\n",
    "print('Not equal to (!=):', 3!=2)"
   ]
  },
  {
   "cell_type": "markdown",
   "id": "e8f8e4fd",
   "metadata": {},
   "source": [
    "# 6. How do you tell the difference between the equal to and assignment operators?Describe a condition and when you would use one."
   ]
  },
  {
   "cell_type": "markdown",
   "id": "6204e896",
   "metadata": {},
   "source": [
    "Ans: Equal to opeartors is write == like this which is give the output Boolean Datatype. Assignment write = like this which store a value in variable."
   ]
  },
  {
   "cell_type": "code",
   "execution_count": 5,
   "id": "14a2c1b8",
   "metadata": {},
   "outputs": [
    {
     "name": "stdout",
     "output_type": "stream",
     "text": [
      "True\n"
     ]
    }
   ],
   "source": [
    "a = 9 ## Assingment opearators\n",
    "print(a==9) ## Equal to"
   ]
  },
  {
   "cell_type": "markdown",
   "id": "fefefe68",
   "metadata": {},
   "source": [
    "# 7. Identify the three blocks in this code:\n",
    "\n",
    "spam = 0\n",
    "\n",
    "if spam == 10:\n",
    "    \n",
    "    print('eggs')\n",
    "\n",
    "if spam>5:\n",
    "    \n",
    "    print('bacon')\n",
    "\n",
    "else:\n",
    "    print('ham')\n",
    "    \n",
    "    print('spam')\n",
    "    \n",
    "    print('spam')"
   ]
  },
  {
   "cell_type": "markdown",
   "id": "181c3eba",
   "metadata": {},
   "source": [
    "Ans: In python Code block is a collection of code or indent."
   ]
  },
  {
   "cell_type": "code",
   "execution_count": 6,
   "id": "2f8c71ac",
   "metadata": {},
   "outputs": [
    {
     "name": "stdout",
     "output_type": "stream",
     "text": [
      "ham\n",
      "spam\n",
      "spam\n"
     ]
    }
   ],
   "source": [
    "spam = 0\n",
    "if spam == 10:\n",
    "    print('eggs')\n",
    "if spam>5:\n",
    "    print('bacon')\n",
    "else:\n",
    "    print('ham')\n",
    "    print('spam')\n",
    "    print('spam')"
   ]
  },
  {
   "cell_type": "markdown",
   "id": "2e73dc5b",
   "metadata": {},
   "source": [
    "# 8. Write code that prints Hello if 1 is stored in spam, prints Howdy if 2 is stored in spam, and prints Greetings! if anything else is stored in spam."
   ]
  },
  {
   "cell_type": "code",
   "execution_count": 7,
   "id": "d6cd1e7a",
   "metadata": {},
   "outputs": [
    {
     "name": "stdout",
     "output_type": "stream",
     "text": [
      "Hello\n",
      "Howdy\n",
      "Greetings\n"
     ]
    }
   ],
   "source": [
    "def spampython(spam):\n",
    "    if spam==1:\n",
    "        print('Hello')\n",
    "    elif spam==2:\n",
    "        print('Howdy')\n",
    "    else:\n",
    "        print('Greetings')\n",
    "spampython(1)\n",
    "spampython(2)\n",
    "spampython(4)"
   ]
  },
  {
   "cell_type": "markdown",
   "id": "7399f453",
   "metadata": {},
   "source": [
    "# 9.If your programme is stuck in an endless loop, what keys you’ll press?"
   ]
  },
  {
   "cell_type": "markdown",
   "id": "72d9f0f5",
   "metadata": {},
   "source": [
    "Ans: press Ctrl + C if programme is stuck in endless loop."
   ]
  },
  {
   "cell_type": "markdown",
   "id": "908e3fe4",
   "metadata": {},
   "source": [
    "# 10. How can you tell the difference between break and continue?"
   ]
  },
  {
   "cell_type": "markdown",
   "id": "a8dd7c71",
   "metadata": {},
   "source": [
    "Ans: 1. The break statement terminates the whole iteration of a loop whereas continue \n",
    "skips the current iteration.\n",
    "\n",
    "2. The break statement terminates the whole loop early whereas the continue brings the \n",
    "next iteration early.\n",
    "\n",
    "3. In a loop for switch, break acts as terminator for case only whereas continue 2 acts\n",
    "as terminator for case and skips the current iteration of loop."
   ]
  },
  {
   "cell_type": "markdown",
   "id": "ac445214",
   "metadata": {},
   "source": [
    "# 11. In a for loop, what is the difference between range(10), range(0, 10), and range(0, 10, 1)?"
   ]
  },
  {
   "cell_type": "markdown",
   "id": "ffc040a2",
   "metadata": {},
   "source": [
    "The Differences are as follows:\n",
    "1. The range(10) call range from 0 to 9 (but not include 10)\n",
    "2. The range (0,10) Loop starts at 0\n",
    "3. The range(0,10,1) increase the variable by 1 on each iteration"
   ]
  },
  {
   "cell_type": "code",
   "execution_count": 8,
   "id": "2a77357b",
   "metadata": {},
   "outputs": [
    {
     "name": "stdout",
     "output_type": "stream",
     "text": [
      "0 1 2 3 4 5 6 7 8 9 \n",
      "\n",
      "0 1 2 3 4 5 6 7 8 9 \n",
      "\n",
      "0 1 2 3 4 5 6 7 8 9 "
     ]
    }
   ],
   "source": [
    "for i in range(10):\n",
    "    print(i, end=\" \")\n",
    "print('\\n')   \n",
    "for j in range(0,10):\n",
    "    print(j, end=\" \")\n",
    "print('\\n')     \n",
    "for k in range(0,10,1):\n",
    "    print(k, end=\" \")"
   ]
  },
  {
   "cell_type": "markdown",
   "id": "0d1e7632",
   "metadata": {},
   "source": [
    "# 12. Write a short program that prints the numbers 1 to 10 using a for loop. Then write an equivalent program that prints the numbers 1 to 10 using a while loop."
   ]
  },
  {
   "cell_type": "code",
   "execution_count": 9,
   "id": "fafbe680",
   "metadata": {},
   "outputs": [
    {
     "name": "stdout",
     "output_type": "stream",
     "text": [
      "1 to 10 using For loop\n",
      "1 2 3 4 5 6 7 8 9 10 \n",
      "--------------------------------------\n",
      "\n",
      "1 to 10 using For loop\n",
      "1 2 3 4 5 6 7 8 9 10 "
     ]
    }
   ],
   "source": [
    "print('1 to 10 using For loop')\n",
    "for i in range(1,11):\n",
    "    print(i, end=\" \")\n",
    "print('\\n--------------------------------------')    \n",
    "print('\\n1 to 10 using For loop')\n",
    "j = 1\n",
    "while j<=10:\n",
    "    print(j, end=\" \")\n",
    "    j = j+1"
   ]
  },
  {
   "cell_type": "markdown",
   "id": "2d63b104",
   "metadata": {},
   "source": [
    "# 13. If you had a function named bacon() inside a module named spam, how would you call it after importing spam?"
   ]
  },
  {
   "cell_type": "markdown",
   "id": "62e4bf3f",
   "metadata": {},
   "source": [
    "Ans: we can call by spam.bacon(), after importing spam."
   ]
  }
 ],
 "metadata": {
  "kernelspec": {
   "display_name": "Python 3 (ipykernel)",
   "language": "python",
   "name": "python3"
  },
  "language_info": {
   "codemirror_mode": {
    "name": "ipython",
    "version": 3
   },
   "file_extension": ".py",
   "mimetype": "text/x-python",
   "name": "python",
   "nbconvert_exporter": "python",
   "pygments_lexer": "ipython3",
   "version": "3.9.12"
  }
 },
 "nbformat": 4,
 "nbformat_minor": 5
}
