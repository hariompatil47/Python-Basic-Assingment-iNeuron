{
 "cells": [
  {
   "cell_type": "markdown",
   "id": "ccb1b886",
   "metadata": {},
   "source": [
    "# 1. Why are functions advantageous to have in your programs?"
   ]
  },
  {
   "cell_type": "markdown",
   "id": "0dcf44a9",
   "metadata": {},
   "source": [
    "Ans: Functions can be called anywhere in a Python program, including calling functions within other functions. Functions provide a couple of benefits: Functions allow the same piece of code to run multiple times Functions break long programs up into smaller components Functions can be shared and used by other programmers"
   ]
  },
  {
   "cell_type": "markdown",
   "id": "46d3fc91",
   "metadata": {},
   "source": [
    "# 2. When does the code in a function run: when it's specified or when it's called?"
   ]
  },
  {
   "cell_type": "markdown",
   "id": "467febdf",
   "metadata": {},
   "source": [
    "Ans: A function is a block of code that only runs when it is called. Python functions return a value using a return statement, if one is specified. A function can be called anywhere after the function has been declared. By itself, a function does nothing."
   ]
  },
  {
   "cell_type": "markdown",
   "id": "2937bdf9",
   "metadata": {},
   "source": [
    "# 3. What statement creates a function?"
   ]
  },
  {
   "cell_type": "markdown",
   "id": "57ee9720",
   "metadata": {},
   "source": [
    "Ans: The def statement defines a function.\n",
    "    \n",
    "    def function_name(parameters):\n",
    "         "
   ]
  },
  {
   "cell_type": "markdown",
   "id": "2545a377",
   "metadata": {},
   "source": [
    "# 4. What is the difference between a function and a function call?"
   ]
  },
  {
   "cell_type": "markdown",
   "id": "f87f1ccc",
   "metadata": {},
   "source": [
    "Ans: A function is a piece of code which enhanced the reusability and modularity of your program. It means that piece of code need not be written again. A function call means invoking or calling that function. Unless a function is called there is no use of that function."
   ]
  },
  {
   "cell_type": "markdown",
   "id": "229f3f7c",
   "metadata": {},
   "source": [
    "# 5. How many global scopes are there in a Python program? How many local scopes?"
   ]
  },
  {
   "cell_type": "markdown",
   "id": "dbd4e593",
   "metadata": {},
   "source": [
    "Ans: A variable is only available from inside the region it is created. This is called scope.\n",
    "There is only one global scopes and one local scopes availble in python.\n",
    "\n",
    "Local Scope:-\n",
    "A variable created inside a function belongs to the local scope of that function, and can only\n",
    "be used inside that function.\n",
    "\n",
    "Global Scope:-\n",
    "A variable created in the main body of the Python code is a global variable and belongs to the \n",
    "global scope.\n",
    "Global variables are available from within any scope, global and local."
   ]
  },
  {
   "cell_type": "markdown",
   "id": "3e3feecc",
   "metadata": {},
   "source": [
    "# 6. What happens to variables in a local scope when the function call returns?"
   ]
  },
  {
   "cell_type": "markdown",
   "id": "1e71a744",
   "metadata": {},
   "source": [
    "Ans: A local variable retains its value until the next time the function is called A local variable becomes undefined after the function call completes The local variable can be used outside the function any time after the function call completes."
   ]
  },
  {
   "cell_type": "markdown",
   "id": "fb1bcd5d",
   "metadata": {},
   "source": [
    "# 7. What is the concept of a return value? Is it possible to have a return value in an expression?"
   ]
  },
  {
   "cell_type": "markdown",
   "id": "a2f50853",
   "metadata": {},
   "source": [
    "Ans: A return value is the value that a function call evaluates to. Like any value, a return value can be used as part of an expression."
   ]
  },
  {
   "cell_type": "markdown",
   "id": "e8a85a8a",
   "metadata": {},
   "source": [
    "# 8. If a function does not have a return statement, what is the return value of a call to that function?"
   ]
  },
  {
   "cell_type": "markdown",
   "id": "10596329",
   "metadata": {},
   "source": [
    "Ans: If there is no return statement for a function, its return value is None."
   ]
  },
  {
   "cell_type": "markdown",
   "id": "7700da4d",
   "metadata": {},
   "source": [
    "# 9. How do you make a function variable refer to the global variable?"
   ]
  },
  {
   "cell_type": "markdown",
   "id": "7dba406d",
   "metadata": {},
   "source": [
    "Ans: A global statement will force a variable in a function to refer to the global variable. If you want to refer to a global variable in a function, you can use the global keyword to declare which variables are global."
   ]
  },
  {
   "cell_type": "markdown",
   "id": "a942a7ee",
   "metadata": {},
   "source": [
    "# 10. What is the data type of None?"
   ]
  },
  {
   "cell_type": "markdown",
   "id": "e2a4941f",
   "metadata": {},
   "source": [
    "Ans: The data type of None is Nonetype"
   ]
  },
  {
   "cell_type": "markdown",
   "id": "487162d3",
   "metadata": {},
   "source": [
    "# 11. What does the sentence import areallyourpetsnamederic do?"
   ]
  },
  {
   "cell_type": "markdown",
   "id": "63a1678e",
   "metadata": {},
   "source": [
    "Ans: That import statement imports a module named areallyourpetsnamederic."
   ]
  },
  {
   "cell_type": "markdown",
   "id": "f4f62403",
   "metadata": {},
   "source": [
    "# 12. If you had a bacon() feature in a spam module, what would you call it after importing spam?"
   ]
  },
  {
   "cell_type": "markdown",
   "id": "29fafba1",
   "metadata": {},
   "source": [
    "Ans: spam.bacon()"
   ]
  },
  {
   "cell_type": "markdown",
   "id": "7adaed64",
   "metadata": {},
   "source": [
    "# 13. What can you do to save a programme from crashing if it encounters an error?"
   ]
  },
  {
   "cell_type": "markdown",
   "id": "f203c906",
   "metadata": {},
   "source": [
    "Ans: Place the line of code that might cause an error in a try clause and use except block to handle the error."
   ]
  },
  {
   "cell_type": "markdown",
   "id": "05f24e7c",
   "metadata": {},
   "source": [
    "# 14. What is the purpose of the try clause? What is the purpose of the except clause?"
   ]
  },
  {
   "cell_type": "markdown",
   "id": "b04e0eb9",
   "metadata": {},
   "source": [
    "ANS:The code that could potentially cause an error goes in the try clause. The code that executes if an error happens goes in the except clause."
   ]
  }
 ],
 "metadata": {
  "kernelspec": {
   "display_name": "Python 3 (ipykernel)",
   "language": "python",
   "name": "python3"
  },
  "language_info": {
   "codemirror_mode": {
    "name": "ipython",
    "version": 3
   },
   "file_extension": ".py",
   "mimetype": "text/x-python",
   "name": "python",
   "nbconvert_exporter": "python",
   "pygments_lexer": "ipython3",
   "version": "3.9.12"
  }
 },
 "nbformat": 4,
 "nbformat_minor": 5
}
